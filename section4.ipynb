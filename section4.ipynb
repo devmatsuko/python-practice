{
  "nbformat": 4,
  "nbformat_minor": 0,
  "metadata": {
    "colab": {
      "name": "section4.ipynb",
      "provenance": [],
      "authorship_tag": "ABX9TyPuO0YNyb512Pn7/7+UmRR4",
      "include_colab_link": true
    },
    "kernelspec": {
      "name": "python3",
      "display_name": "Python 3"
    }
  },
  "cells": [
    {
      "cell_type": "markdown",
      "metadata": {
        "id": "view-in-github",
        "colab_type": "text"
      },
      "source": [
        "<a href=\"https://colab.research.google.com/github/devmatsuko/python-practice/blob/main/section4.ipynb\" target=\"_parent\"><img src=\"https://colab.research.google.com/assets/colab-badge.svg\" alt=\"Open In Colab\"/></a>"
      ]
    },
    {
      "cell_type": "markdown",
      "metadata": {
        "id": "A_cuGI0Uj4NU"
      },
      "source": [
        "# Lecture14:Series（1次元のデータ列）\n"
      ]
    },
    {
      "cell_type": "code",
      "metadata": {
        "id": "eBDvNOb5n5Ia"
      },
      "source": [
        "import pandas as pd\n",
        "from pandas import Series"
      ],
      "execution_count": 1,
      "outputs": []
    },
    {
      "cell_type": "code",
      "metadata": {
        "id": "fQDt0fUnkMbZ"
      },
      "source": [
        "# アレイとシリーズの違いはシリーズにはindexがついている。\n",
        "obj = Series([3,6,9,12])"
      ],
      "execution_count": 2,
      "outputs": []
    },
    {
      "cell_type": "code",
      "metadata": {
        "colab": {
          "base_uri": "https://localhost:8080/"
        },
        "id": "7iTi9ci4kQyp",
        "outputId": "69c06d02-1eeb-4563-fcab-9b219c4ee0c1"
      },
      "source": [
        "obj"
      ],
      "execution_count": 3,
      "outputs": [
        {
          "output_type": "execute_result",
          "data": {
            "text/plain": [
              "0     3\n",
              "1     6\n",
              "2     9\n",
              "3    12\n",
              "dtype: int64"
            ]
          },
          "metadata": {
            "tags": []
          },
          "execution_count": 3
        }
      ]
    },
    {
      "cell_type": "code",
      "metadata": {
        "colab": {
          "base_uri": "https://localhost:8080/"
        },
        "id": "lTn5loPfkR30",
        "outputId": "33a62207-dad7-46d1-f117-ae14cfcd630a"
      },
      "source": [
        "# シリーズ内の値のみを取得\n",
        "obj.values"
      ],
      "execution_count": 4,
      "outputs": [
        {
          "output_type": "execute_result",
          "data": {
            "text/plain": [
              "array([ 3,  6,  9, 12])"
            ]
          },
          "metadata": {
            "tags": []
          },
          "execution_count": 4
        }
      ]
    },
    {
      "cell_type": "code",
      "metadata": {
        "colab": {
          "base_uri": "https://localhost:8080/"
        },
        "id": "jyEgOPjMkfpl",
        "outputId": "602c48e8-daad-4cd3-da2d-c57a0b1e8b4f"
      },
      "source": [
        "# シリーズ内のindexのみ取得\n",
        "obj.index"
      ],
      "execution_count": 5,
      "outputs": [
        {
          "output_type": "execute_result",
          "data": {
            "text/plain": [
              "RangeIndex(start=0, stop=4, step=1)"
            ]
          },
          "metadata": {
            "tags": []
          },
          "execution_count": 5
        }
      ]
    },
    {
      "cell_type": "code",
      "metadata": {
        "id": "mkh3eWIKkrKm"
      },
      "source": [
        "# indexに文字列を指定することもできる\n",
        "ww2_cas = Series([8700000,4300000,3000000,2100000,4000000], index=['USSR','Germany','China','Japan','USA'])"
      ],
      "execution_count": 6,
      "outputs": []
    },
    {
      "cell_type": "code",
      "metadata": {
        "colab": {
          "base_uri": "https://localhost:8080/"
        },
        "id": "9RVMdQ91lR2F",
        "outputId": "36b845d0-b41a-402f-d12a-6a69e8032ab9"
      },
      "source": [
        "ww2_cas"
      ],
      "execution_count": 7,
      "outputs": [
        {
          "output_type": "execute_result",
          "data": {
            "text/plain": [
              "USSR       8700000\n",
              "Germany    4300000\n",
              "China      3000000\n",
              "Japan      2100000\n",
              "USA        4000000\n",
              "dtype: int64"
            ]
          },
          "metadata": {
            "tags": []
          },
          "execution_count": 7
        }
      ]
    },
    {
      "cell_type": "code",
      "metadata": {
        "colab": {
          "base_uri": "https://localhost:8080/"
        },
        "id": "9lwO5znslTgY",
        "outputId": "9bdae0dd-623e-4c3f-c78d-a1aa29b12078"
      },
      "source": [
        "# 参照時に個別にindexを指定し、値を取得\n",
        "ww2_cas['USA']"
      ],
      "execution_count": 9,
      "outputs": [
        {
          "output_type": "execute_result",
          "data": {
            "text/plain": [
              "4000000"
            ]
          },
          "metadata": {
            "tags": []
          },
          "execution_count": 9
        }
      ]
    },
    {
      "cell_type": "code",
      "metadata": {
        "colab": {
          "base_uri": "https://localhost:8080/"
        },
        "id": "k5K7yXg8lhwr",
        "outputId": "26e1f6e5-f704-47aa-85fa-00cc3b3b1bef"
      },
      "source": [
        "# []内に条件を指定することもできる。\n",
        "ww2_cas[ww2_cas>4000000]"
      ],
      "execution_count": 10,
      "outputs": [
        {
          "output_type": "execute_result",
          "data": {
            "text/plain": [
              "USSR       8700000\n",
              "Germany    4300000\n",
              "dtype: int64"
            ]
          },
          "metadata": {
            "tags": []
          },
          "execution_count": 10
        }
      ]
    },
    {
      "cell_type": "code",
      "metadata": {
        "colab": {
          "base_uri": "https://localhost:8080/"
        },
        "id": "rGXC15sol6JI",
        "outputId": "593a7e86-02e9-451d-f39a-3316cd14cacf"
      },
      "source": [
        "ww2_cas>4000000"
      ],
      "execution_count": 11,
      "outputs": [
        {
          "output_type": "execute_result",
          "data": {
            "text/plain": [
              "USSR        True\n",
              "Germany     True\n",
              "China      False\n",
              "Japan      False\n",
              "USA        False\n",
              "dtype: bool"
            ]
          },
          "metadata": {
            "tags": []
          },
          "execution_count": 11
        }
      ]
    },
    {
      "cell_type": "code",
      "metadata": {
        "colab": {
          "base_uri": "https://localhost:8080/"
        },
        "id": "6JfYRHc3l8y-",
        "outputId": "1083838e-7c67-4eb1-aadc-7022fdd9a9a5"
      },
      "source": [
        "# USSRが含まれているかを判定する\n",
        "'USSR' in ww2_cas"
      ],
      "execution_count": 13,
      "outputs": [
        {
          "output_type": "execute_result",
          "data": {
            "text/plain": [
              "True"
            ]
          },
          "metadata": {
            "tags": []
          },
          "execution_count": 13
        }
      ]
    },
    {
      "cell_type": "code",
      "metadata": {
        "id": "fk3PCEf5mEp0"
      },
      "source": [
        "# Series配列を辞書型に変換\n",
        "ww2_dict = ww2_cas.to_dict()"
      ],
      "execution_count": 16,
      "outputs": []
    },
    {
      "cell_type": "code",
      "metadata": {
        "colab": {
          "base_uri": "https://localhost:8080/"
        },
        "id": "_G9WE85ImKtQ",
        "outputId": "0839e1e7-45c9-48d2-8c2d-d3d788e630bc"
      },
      "source": [
        "ww2_dict"
      ],
      "execution_count": 17,
      "outputs": [
        {
          "output_type": "execute_result",
          "data": {
            "text/plain": [
              "{'China': 3000000,\n",
              " 'Germany': 4300000,\n",
              " 'Japan': 2100000,\n",
              " 'USA': 4000000,\n",
              " 'USSR': 8700000}"
            ]
          },
          "metadata": {
            "tags": []
          },
          "execution_count": 17
        }
      ]
    },
    {
      "cell_type": "code",
      "metadata": {
        "id": "n8pVqJoXmXmY"
      },
      "source": [
        "# 辞書型の配列をSeries配列に変換\n",
        "ww2_Series = Series(ww2_dict)"
      ],
      "execution_count": 18,
      "outputs": []
    },
    {
      "cell_type": "code",
      "metadata": {
        "colab": {
          "base_uri": "https://localhost:8080/"
        },
        "id": "HJxaUMZ4mckv",
        "outputId": "e577df93-ef2f-4f46-972a-af17ed8b4064"
      },
      "source": [
        "ww2_Series"
      ],
      "execution_count": 19,
      "outputs": [
        {
          "output_type": "execute_result",
          "data": {
            "text/plain": [
              "USSR       8700000\n",
              "Germany    4300000\n",
              "China      3000000\n",
              "Japan      2100000\n",
              "USA        4000000\n",
              "dtype: int64"
            ]
          },
          "metadata": {
            "tags": []
          },
          "execution_count": 19
        }
      ]
    },
    {
      "cell_type": "code",
      "metadata": {
        "id": "kMiTU3BKmdvG"
      },
      "source": [
        "countries = ['China','Germany','Japan','USA','USSR','Argentina']"
      ],
      "execution_count": 20,
      "outputs": []
    },
    {
      "cell_type": "code",
      "metadata": {
        "id": "qqOOYfkim0f9"
      },
      "source": [
        "# 上述で作成した辞書型配列のindexをcountriesにする\n",
        "obj2 = Series(ww2_dict, index=countries)"
      ],
      "execution_count": 21,
      "outputs": []
    },
    {
      "cell_type": "code",
      "metadata": {
        "colab": {
          "base_uri": "https://localhost:8080/"
        },
        "id": "bwa1vPlQm_Ag",
        "outputId": "e8d0cec4-72fe-4339-ffd0-3940c1489b4f"
      },
      "source": [
        "# アルゼンチンのデータはないのでNaNになる\n",
        "obj2"
      ],
      "execution_count": 22,
      "outputs": [
        {
          "output_type": "execute_result",
          "data": {
            "text/plain": [
              "China        3000000.0\n",
              "Germany      4300000.0\n",
              "Japan        2100000.0\n",
              "USA          4000000.0\n",
              "USSR         8700000.0\n",
              "Argentina          NaN\n",
              "dtype: float64"
            ]
          },
          "metadata": {
            "tags": []
          },
          "execution_count": 22
        }
      ]
    },
    {
      "cell_type": "code",
      "metadata": {
        "colab": {
          "base_uri": "https://localhost:8080/"
        },
        "id": "PSUGBHzhm_nl",
        "outputId": "c56d413f-1790-464e-b3c0-c9c28ae2f7f4"
      },
      "source": [
        "# nullがTrue\n",
        "pd.isnull(obj2)"
      ],
      "execution_count": 24,
      "outputs": [
        {
          "output_type": "execute_result",
          "data": {
            "text/plain": [
              "China        False\n",
              "Germany      False\n",
              "Japan        False\n",
              "USA          False\n",
              "USSR         False\n",
              "Argentina     True\n",
              "dtype: bool"
            ]
          },
          "metadata": {
            "tags": []
          },
          "execution_count": 24
        }
      ]
    },
    {
      "cell_type": "code",
      "metadata": {
        "colab": {
          "base_uri": "https://localhost:8080/"
        },
        "id": "8MlWK6OvnbZS",
        "outputId": "d5f97185-c342-4dbc-9135-c86f200c86ac"
      },
      "source": [
        "# null以外がTrue\n",
        "pd.notnull(obj2)"
      ],
      "execution_count": 25,
      "outputs": [
        {
          "output_type": "execute_result",
          "data": {
            "text/plain": [
              "China         True\n",
              "Germany       True\n",
              "Japan         True\n",
              "USA           True\n",
              "USSR          True\n",
              "Argentina    False\n",
              "dtype: bool"
            ]
          },
          "metadata": {
            "tags": []
          },
          "execution_count": 25
        }
      ]
    },
    {
      "cell_type": "code",
      "metadata": {
        "colab": {
          "base_uri": "https://localhost:8080/"
        },
        "id": "l6nVtjwNniTu",
        "outputId": "27f3ae71-82e2-41c6-d8dd-f94d2176a0f8"
      },
      "source": [
        "ww2_Series"
      ],
      "execution_count": 26,
      "outputs": [
        {
          "output_type": "execute_result",
          "data": {
            "text/plain": [
              "USSR       8700000\n",
              "Germany    4300000\n",
              "China      3000000\n",
              "Japan      2100000\n",
              "USA        4000000\n",
              "dtype: int64"
            ]
          },
          "metadata": {
            "tags": []
          },
          "execution_count": 26
        }
      ]
    },
    {
      "cell_type": "code",
      "metadata": {
        "colab": {
          "base_uri": "https://localhost:8080/"
        },
        "id": "frS3fTHUnpW4",
        "outputId": "6529b2a9-02d4-4106-966a-52078fe0d317"
      },
      "source": [
        "obj2"
      ],
      "execution_count": 27,
      "outputs": [
        {
          "output_type": "execute_result",
          "data": {
            "text/plain": [
              "China        3000000.0\n",
              "Germany      4300000.0\n",
              "Japan        2100000.0\n",
              "USA          4000000.0\n",
              "USSR         8700000.0\n",
              "Argentina          NaN\n",
              "dtype: float64"
            ]
          },
          "metadata": {
            "tags": []
          },
          "execution_count": 27
        }
      ]
    },
    {
      "cell_type": "code",
      "metadata": {
        "colab": {
          "base_uri": "https://localhost:8080/"
        },
        "id": "JR7pcdtSnqnm",
        "outputId": "71a42e16-5677-4856-f115-5b28c36bb34b"
      },
      "source": [
        "# indexが揃っている部分は足算される\n",
        "ww2_Series + obj2"
      ],
      "execution_count": 28,
      "outputs": [
        {
          "output_type": "execute_result",
          "data": {
            "text/plain": [
              "Argentina           NaN\n",
              "China         6000000.0\n",
              "Germany       8600000.0\n",
              "Japan         4200000.0\n",
              "USA           8000000.0\n",
              "USSR         17400000.0\n",
              "dtype: float64"
            ]
          },
          "metadata": {
            "tags": []
          },
          "execution_count": 28
        }
      ]
    },
    {
      "cell_type": "code",
      "metadata": {
        "id": "t3VbMXZmntqH"
      },
      "source": [
        "# シリーズ配列に名前をつける\n",
        "obj2.name = \"第二次世界大戦の死傷者\""
      ],
      "execution_count": 29,
      "outputs": []
    },
    {
      "cell_type": "code",
      "metadata": {
        "colab": {
          "base_uri": "https://localhost:8080/"
        },
        "id": "cd2PsJSFn47n",
        "outputId": "d5ec0284-d756-430c-93f6-3eb59658db7c"
      },
      "source": [
        "obj2"
      ],
      "execution_count": 30,
      "outputs": [
        {
          "output_type": "execute_result",
          "data": {
            "text/plain": [
              "China        3000000.0\n",
              "Germany      4300000.0\n",
              "Japan        2100000.0\n",
              "USA          4000000.0\n",
              "USSR         8700000.0\n",
              "Argentina          NaN\n",
              "Name: 第二次世界大戦の死傷者, dtype: float64"
            ]
          },
          "metadata": {
            "tags": []
          },
          "execution_count": 30
        }
      ]
    },
    {
      "cell_type": "code",
      "metadata": {
        "id": "yYvPa0zZn6DF"
      },
      "source": [
        "# indexに名前をつける\n",
        "obj2.index.name = 'Countries'"
      ],
      "execution_count": 31,
      "outputs": []
    },
    {
      "cell_type": "code",
      "metadata": {
        "colab": {
          "base_uri": "https://localhost:8080/"
        },
        "id": "Djq5fVWZoUbl",
        "outputId": "6859f12c-95fa-40d9-920a-43e47033bd2f"
      },
      "source": [
        "obj2"
      ],
      "execution_count": 32,
      "outputs": [
        {
          "output_type": "execute_result",
          "data": {
            "text/plain": [
              "Countries\n",
              "China        3000000.0\n",
              "Germany      4300000.0\n",
              "Japan        2100000.0\n",
              "USA          4000000.0\n",
              "USSR         8700000.0\n",
              "Argentina          NaN\n",
              "Name: 第二次世界大戦の死傷者, dtype: float64"
            ]
          },
          "metadata": {
            "tags": []
          },
          "execution_count": 32
        }
      ]
    }
  ]
}