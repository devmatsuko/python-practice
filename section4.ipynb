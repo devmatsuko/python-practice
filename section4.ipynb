{
  "nbformat": 4,
  "nbformat_minor": 0,
  "metadata": {
    "colab": {
      "name": "section4.ipynb",
      "provenance": [],
      "authorship_tag": "ABX9TyMsZraKNVy2zWM79DolB5fq",
      "include_colab_link": true
    },
    "kernelspec": {
      "name": "python3",
      "display_name": "Python 3"
    }
  },
  "cells": [
    {
      "cell_type": "markdown",
      "metadata": {
        "id": "view-in-github",
        "colab_type": "text"
      },
      "source": [
        "<a href=\"https://colab.research.google.com/github/devmatsuko/python-practice/blob/main/section4.ipynb\" target=\"_parent\"><img src=\"https://colab.research.google.com/assets/colab-badge.svg\" alt=\"Open In Colab\"/></a>"
      ]
    },
    {
      "cell_type": "markdown",
      "metadata": {
        "id": "A_cuGI0Uj4NU"
      },
      "source": [
        "# Lecture14:Series（1次元のデータ列）\n"
      ]
    },
    {
      "cell_type": "code",
      "metadata": {
        "id": "eBDvNOb5n5Ia"
      },
      "source": [
        "import pandas as pd\n",
        "from pandas import Series"
      ],
      "execution_count": 1,
      "outputs": []
    },
    {
      "cell_type": "code",
      "metadata": {
        "id": "fQDt0fUnkMbZ"
      },
      "source": [
        "# アレイとシリーズの違いはシリーズにはindexがついている。\n",
        "obj = Series([3,6,9,12])"
      ],
      "execution_count": 2,
      "outputs": []
    },
    {
      "cell_type": "code",
      "metadata": {
        "colab": {
          "base_uri": "https://localhost:8080/"
        },
        "id": "7iTi9ci4kQyp",
        "outputId": "69c06d02-1eeb-4563-fcab-9b219c4ee0c1"
      },
      "source": [
        "obj"
      ],
      "execution_count": 3,
      "outputs": [
        {
          "output_type": "execute_result",
          "data": {
            "text/plain": [
              "0     3\n",
              "1     6\n",
              "2     9\n",
              "3    12\n",
              "dtype: int64"
            ]
          },
          "metadata": {
            "tags": []
          },
          "execution_count": 3
        }
      ]
    },
    {
      "cell_type": "code",
      "metadata": {
        "colab": {
          "base_uri": "https://localhost:8080/"
        },
        "id": "lTn5loPfkR30",
        "outputId": "33a62207-dad7-46d1-f117-ae14cfcd630a"
      },
      "source": [
        "# シリーズ内の値のみを取得\n",
        "obj.values"
      ],
      "execution_count": 4,
      "outputs": [
        {
          "output_type": "execute_result",
          "data": {
            "text/plain": [
              "array([ 3,  6,  9, 12])"
            ]
          },
          "metadata": {
            "tags": []
          },
          "execution_count": 4
        }
      ]
    },
    {
      "cell_type": "code",
      "metadata": {
        "colab": {
          "base_uri": "https://localhost:8080/"
        },
        "id": "jyEgOPjMkfpl",
        "outputId": "602c48e8-daad-4cd3-da2d-c57a0b1e8b4f"
      },
      "source": [
        "# シリーズ内のindexのみ取得\n",
        "obj.index"
      ],
      "execution_count": 5,
      "outputs": [
        {
          "output_type": "execute_result",
          "data": {
            "text/plain": [
              "RangeIndex(start=0, stop=4, step=1)"
            ]
          },
          "metadata": {
            "tags": []
          },
          "execution_count": 5
        }
      ]
    },
    {
      "cell_type": "code",
      "metadata": {
        "id": "mkh3eWIKkrKm"
      },
      "source": [
        "# indexに文字列を指定することもできる\n",
        "ww2_cas = Series([8700000,4300000,3000000,2100000,4000000], index=['USSR','Germany','China','Japan','USA'])"
      ],
      "execution_count": 6,
      "outputs": []
    },
    {
      "cell_type": "code",
      "metadata": {
        "colab": {
          "base_uri": "https://localhost:8080/"
        },
        "id": "9RVMdQ91lR2F",
        "outputId": "36b845d0-b41a-402f-d12a-6a69e8032ab9"
      },
      "source": [
        "ww2_cas"
      ],
      "execution_count": 7,
      "outputs": [
        {
          "output_type": "execute_result",
          "data": {
            "text/plain": [
              "USSR       8700000\n",
              "Germany    4300000\n",
              "China      3000000\n",
              "Japan      2100000\n",
              "USA        4000000\n",
              "dtype: int64"
            ]
          },
          "metadata": {
            "tags": []
          },
          "execution_count": 7
        }
      ]
    },
    {
      "cell_type": "code",
      "metadata": {
        "colab": {
          "base_uri": "https://localhost:8080/"
        },
        "id": "9lwO5znslTgY",
        "outputId": "9bdae0dd-623e-4c3f-c78d-a1aa29b12078"
      },
      "source": [
        "# 参照時に個別にindexを指定し、値を取得\n",
        "ww2_cas['USA']"
      ],
      "execution_count": 9,
      "outputs": [
        {
          "output_type": "execute_result",
          "data": {
            "text/plain": [
              "4000000"
            ]
          },
          "metadata": {
            "tags": []
          },
          "execution_count": 9
        }
      ]
    },
    {
      "cell_type": "code",
      "metadata": {
        "colab": {
          "base_uri": "https://localhost:8080/"
        },
        "id": "k5K7yXg8lhwr",
        "outputId": "26e1f6e5-f704-47aa-85fa-00cc3b3b1bef"
      },
      "source": [
        "# []内に条件を指定することもできる。\n",
        "ww2_cas[ww2_cas>4000000]"
      ],
      "execution_count": 10,
      "outputs": [
        {
          "output_type": "execute_result",
          "data": {
            "text/plain": [
              "USSR       8700000\n",
              "Germany    4300000\n",
              "dtype: int64"
            ]
          },
          "metadata": {
            "tags": []
          },
          "execution_count": 10
        }
      ]
    },
    {
      "cell_type": "code",
      "metadata": {
        "colab": {
          "base_uri": "https://localhost:8080/"
        },
        "id": "rGXC15sol6JI",
        "outputId": "593a7e86-02e9-451d-f39a-3316cd14cacf"
      },
      "source": [
        "ww2_cas>4000000"
      ],
      "execution_count": 11,
      "outputs": [
        {
          "output_type": "execute_result",
          "data": {
            "text/plain": [
              "USSR        True\n",
              "Germany     True\n",
              "China      False\n",
              "Japan      False\n",
              "USA        False\n",
              "dtype: bool"
            ]
          },
          "metadata": {
            "tags": []
          },
          "execution_count": 11
        }
      ]
    },
    {
      "cell_type": "code",
      "metadata": {
        "colab": {
          "base_uri": "https://localhost:8080/"
        },
        "id": "6JfYRHc3l8y-",
        "outputId": "1083838e-7c67-4eb1-aadc-7022fdd9a9a5"
      },
      "source": [
        "# USSRが含まれているかを判定する\n",
        "'USSR' in ww2_cas"
      ],
      "execution_count": 13,
      "outputs": [
        {
          "output_type": "execute_result",
          "data": {
            "text/plain": [
              "True"
            ]
          },
          "metadata": {
            "tags": []
          },
          "execution_count": 13
        }
      ]
    },
    {
      "cell_type": "code",
      "metadata": {
        "id": "fk3PCEf5mEp0"
      },
      "source": [
        "# Series配列を辞書型に変換\n",
        "ww2_dict = ww2_cas.to_dict()"
      ],
      "execution_count": 16,
      "outputs": []
    },
    {
      "cell_type": "code",
      "metadata": {
        "colab": {
          "base_uri": "https://localhost:8080/"
        },
        "id": "_G9WE85ImKtQ",
        "outputId": "0839e1e7-45c9-48d2-8c2d-d3d788e630bc"
      },
      "source": [
        "ww2_dict"
      ],
      "execution_count": 17,
      "outputs": [
        {
          "output_type": "execute_result",
          "data": {
            "text/plain": [
              "{'China': 3000000,\n",
              " 'Germany': 4300000,\n",
              " 'Japan': 2100000,\n",
              " 'USA': 4000000,\n",
              " 'USSR': 8700000}"
            ]
          },
          "metadata": {
            "tags": []
          },
          "execution_count": 17
        }
      ]
    },
    {
      "cell_type": "code",
      "metadata": {
        "id": "n8pVqJoXmXmY"
      },
      "source": [
        "# 辞書型の配列をSeries配列に変換\n",
        "ww2_Series = Series(ww2_dict)"
      ],
      "execution_count": 18,
      "outputs": []
    },
    {
      "cell_type": "code",
      "metadata": {
        "colab": {
          "base_uri": "https://localhost:8080/"
        },
        "id": "HJxaUMZ4mckv",
        "outputId": "e577df93-ef2f-4f46-972a-af17ed8b4064"
      },
      "source": [
        "ww2_Series"
      ],
      "execution_count": 19,
      "outputs": [
        {
          "output_type": "execute_result",
          "data": {
            "text/plain": [
              "USSR       8700000\n",
              "Germany    4300000\n",
              "China      3000000\n",
              "Japan      2100000\n",
              "USA        4000000\n",
              "dtype: int64"
            ]
          },
          "metadata": {
            "tags": []
          },
          "execution_count": 19
        }
      ]
    },
    {
      "cell_type": "code",
      "metadata": {
        "id": "kMiTU3BKmdvG"
      },
      "source": [
        "countries = ['China','Germany','Japan','USA','USSR','Argentina']"
      ],
      "execution_count": 20,
      "outputs": []
    },
    {
      "cell_type": "code",
      "metadata": {
        "id": "qqOOYfkim0f9"
      },
      "source": [
        "# 上述で作成した辞書型配列のindexをcountriesにする\n",
        "obj2 = Series(ww2_dict, index=countries)"
      ],
      "execution_count": 21,
      "outputs": []
    },
    {
      "cell_type": "code",
      "metadata": {
        "colab": {
          "base_uri": "https://localhost:8080/"
        },
        "id": "bwa1vPlQm_Ag",
        "outputId": "e8d0cec4-72fe-4339-ffd0-3940c1489b4f"
      },
      "source": [
        "# アルゼンチンのデータはないのでNaNになる\n",
        "obj2"
      ],
      "execution_count": 22,
      "outputs": [
        {
          "output_type": "execute_result",
          "data": {
            "text/plain": [
              "China        3000000.0\n",
              "Germany      4300000.0\n",
              "Japan        2100000.0\n",
              "USA          4000000.0\n",
              "USSR         8700000.0\n",
              "Argentina          NaN\n",
              "dtype: float64"
            ]
          },
          "metadata": {
            "tags": []
          },
          "execution_count": 22
        }
      ]
    },
    {
      "cell_type": "code",
      "metadata": {
        "colab": {
          "base_uri": "https://localhost:8080/"
        },
        "id": "PSUGBHzhm_nl",
        "outputId": "c56d413f-1790-464e-b3c0-c9c28ae2f7f4"
      },
      "source": [
        "# nullがTrue\n",
        "pd.isnull(obj2)"
      ],
      "execution_count": 24,
      "outputs": [
        {
          "output_type": "execute_result",
          "data": {
            "text/plain": [
              "China        False\n",
              "Germany      False\n",
              "Japan        False\n",
              "USA          False\n",
              "USSR         False\n",
              "Argentina     True\n",
              "dtype: bool"
            ]
          },
          "metadata": {
            "tags": []
          },
          "execution_count": 24
        }
      ]
    },
    {
      "cell_type": "code",
      "metadata": {
        "colab": {
          "base_uri": "https://localhost:8080/"
        },
        "id": "8MlWK6OvnbZS",
        "outputId": "d5f97185-c342-4dbc-9135-c86f200c86ac"
      },
      "source": [
        "# null以外がTrue\n",
        "pd.notnull(obj2)"
      ],
      "execution_count": 25,
      "outputs": [
        {
          "output_type": "execute_result",
          "data": {
            "text/plain": [
              "China         True\n",
              "Germany       True\n",
              "Japan         True\n",
              "USA           True\n",
              "USSR          True\n",
              "Argentina    False\n",
              "dtype: bool"
            ]
          },
          "metadata": {
            "tags": []
          },
          "execution_count": 25
        }
      ]
    },
    {
      "cell_type": "code",
      "metadata": {
        "colab": {
          "base_uri": "https://localhost:8080/"
        },
        "id": "l6nVtjwNniTu",
        "outputId": "27f3ae71-82e2-41c6-d8dd-f94d2176a0f8"
      },
      "source": [
        "ww2_Series"
      ],
      "execution_count": 26,
      "outputs": [
        {
          "output_type": "execute_result",
          "data": {
            "text/plain": [
              "USSR       8700000\n",
              "Germany    4300000\n",
              "China      3000000\n",
              "Japan      2100000\n",
              "USA        4000000\n",
              "dtype: int64"
            ]
          },
          "metadata": {
            "tags": []
          },
          "execution_count": 26
        }
      ]
    },
    {
      "cell_type": "code",
      "metadata": {
        "colab": {
          "base_uri": "https://localhost:8080/"
        },
        "id": "frS3fTHUnpW4",
        "outputId": "6529b2a9-02d4-4106-966a-52078fe0d317"
      },
      "source": [
        "obj2"
      ],
      "execution_count": 27,
      "outputs": [
        {
          "output_type": "execute_result",
          "data": {
            "text/plain": [
              "China        3000000.0\n",
              "Germany      4300000.0\n",
              "Japan        2100000.0\n",
              "USA          4000000.0\n",
              "USSR         8700000.0\n",
              "Argentina          NaN\n",
              "dtype: float64"
            ]
          },
          "metadata": {
            "tags": []
          },
          "execution_count": 27
        }
      ]
    },
    {
      "cell_type": "code",
      "metadata": {
        "colab": {
          "base_uri": "https://localhost:8080/"
        },
        "id": "JR7pcdtSnqnm",
        "outputId": "71a42e16-5677-4856-f115-5b28c36bb34b"
      },
      "source": [
        "# indexが揃っている部分は足算される\n",
        "ww2_Series + obj2"
      ],
      "execution_count": 28,
      "outputs": [
        {
          "output_type": "execute_result",
          "data": {
            "text/plain": [
              "Argentina           NaN\n",
              "China         6000000.0\n",
              "Germany       8600000.0\n",
              "Japan         4200000.0\n",
              "USA           8000000.0\n",
              "USSR         17400000.0\n",
              "dtype: float64"
            ]
          },
          "metadata": {
            "tags": []
          },
          "execution_count": 28
        }
      ]
    },
    {
      "cell_type": "code",
      "metadata": {
        "id": "t3VbMXZmntqH"
      },
      "source": [
        "# シリーズ配列に名前をつける\n",
        "obj2.name = \"第二次世界大戦の死傷者\""
      ],
      "execution_count": 29,
      "outputs": []
    },
    {
      "cell_type": "code",
      "metadata": {
        "colab": {
          "base_uri": "https://localhost:8080/"
        },
        "id": "cd2PsJSFn47n",
        "outputId": "d5ec0284-d756-430c-93f6-3eb59658db7c"
      },
      "source": [
        "obj2"
      ],
      "execution_count": 30,
      "outputs": [
        {
          "output_type": "execute_result",
          "data": {
            "text/plain": [
              "China        3000000.0\n",
              "Germany      4300000.0\n",
              "Japan        2100000.0\n",
              "USA          4000000.0\n",
              "USSR         8700000.0\n",
              "Argentina          NaN\n",
              "Name: 第二次世界大戦の死傷者, dtype: float64"
            ]
          },
          "metadata": {
            "tags": []
          },
          "execution_count": 30
        }
      ]
    },
    {
      "cell_type": "code",
      "metadata": {
        "id": "yYvPa0zZn6DF"
      },
      "source": [
        "# indexに名前をつける\n",
        "obj2.index.name = 'Countries'"
      ],
      "execution_count": 31,
      "outputs": []
    },
    {
      "cell_type": "code",
      "metadata": {
        "colab": {
          "base_uri": "https://localhost:8080/"
        },
        "id": "Djq5fVWZoUbl",
        "outputId": "6859f12c-95fa-40d9-920a-43e47033bd2f"
      },
      "source": [
        "obj2"
      ],
      "execution_count": 32,
      "outputs": [
        {
          "output_type": "execute_result",
          "data": {
            "text/plain": [
              "Countries\n",
              "China        3000000.0\n",
              "Germany      4300000.0\n",
              "Japan        2100000.0\n",
              "USA          4000000.0\n",
              "USSR         8700000.0\n",
              "Argentina          NaN\n",
              "Name: 第二次世界大戦の死傷者, dtype: float64"
            ]
          },
          "metadata": {
            "tags": []
          },
          "execution_count": 32
        }
      ]
    },
    {
      "cell_type": "markdown",
      "metadata": {
        "id": "Pwcsw2byCxjN"
      },
      "source": [
        "# Lecture15:DataFrame"
      ]
    },
    {
      "cell_type": "code",
      "metadata": {
        "id": "XZrwmbuRC2Ev"
      },
      "source": [
        "import numpy as np\n",
        "import pandas as pd\n",
        "from pandas import Series, DataFrame"
      ],
      "execution_count": 7,
      "outputs": []
    },
    {
      "cell_type": "code",
      "metadata": {
        "colab": {
          "base_uri": "https://localhost:8080/",
          "height": 396
        },
        "id": "tyrYF7Y1DAgX",
        "outputId": "45f2d129-c651-4556-cadf-615fdd189cc3"
      },
      "source": [
        "# クリップボードの中身をデータフレームとして格納\n",
        "# GoogleColabでは実行不可\n",
        "nfl_frame = pd.read_clipboard()"
      ],
      "execution_count": 38,
      "outputs": [
        {
          "output_type": "error",
          "ename": "PyperclipException",
          "evalue": "ignored",
          "traceback": [
            "\u001b[0;31m---------------------------------------------------------------------------\u001b[0m",
            "\u001b[0;31mPyperclipException\u001b[0m                        Traceback (most recent call last)",
            "\u001b[0;32m<ipython-input-38-a0ef3b0fc31f>\u001b[0m in \u001b[0;36m<module>\u001b[0;34m()\u001b[0m\n\u001b[1;32m      1\u001b[0m \u001b[0;31m# クリップボードの中身をデータフレームとして格納\u001b[0m\u001b[0;34m\u001b[0m\u001b[0;34m\u001b[0m\u001b[0;34m\u001b[0m\u001b[0m\n\u001b[0;32m----> 2\u001b[0;31m \u001b[0mnfl_frame\u001b[0m \u001b[0;34m=\u001b[0m \u001b[0mpd\u001b[0m\u001b[0;34m.\u001b[0m\u001b[0mread_clipboard\u001b[0m\u001b[0;34m(\u001b[0m\u001b[0;34m)\u001b[0m\u001b[0;34m\u001b[0m\u001b[0;34m\u001b[0m\u001b[0m\n\u001b[0m",
            "\u001b[0;32m/usr/local/lib/python3.6/dist-packages/pandas/io/clipboards.py\u001b[0m in \u001b[0;36mread_clipboard\u001b[0;34m(sep, **kwargs)\u001b[0m\n\u001b[1;32m     36\u001b[0m     \u001b[0;32mfrom\u001b[0m \u001b[0mpandas\u001b[0m\u001b[0;34m.\u001b[0m\u001b[0mio\u001b[0m\u001b[0;34m.\u001b[0m\u001b[0mparsers\u001b[0m \u001b[0;32mimport\u001b[0m \u001b[0mread_csv\u001b[0m\u001b[0;34m\u001b[0m\u001b[0;34m\u001b[0m\u001b[0m\n\u001b[1;32m     37\u001b[0m \u001b[0;34m\u001b[0m\u001b[0m\n\u001b[0;32m---> 38\u001b[0;31m     \u001b[0mtext\u001b[0m \u001b[0;34m=\u001b[0m \u001b[0mclipboard_get\u001b[0m\u001b[0;34m(\u001b[0m\u001b[0;34m)\u001b[0m\u001b[0;34m\u001b[0m\u001b[0;34m\u001b[0m\u001b[0m\n\u001b[0m\u001b[1;32m     39\u001b[0m \u001b[0;34m\u001b[0m\u001b[0m\n\u001b[1;32m     40\u001b[0m     \u001b[0;31m# Try to decode (if needed, as \"text\" might already be a string here).\u001b[0m\u001b[0;34m\u001b[0m\u001b[0;34m\u001b[0m\u001b[0;34m\u001b[0m\u001b[0m\n",
            "\u001b[0;32m/usr/local/lib/python3.6/dist-packages/pandas/io/clipboard/__init__.py\u001b[0m in \u001b[0;36mlazy_load_stub_paste\u001b[0;34m()\u001b[0m\n\u001b[1;32m    647\u001b[0m     \u001b[0;32mglobal\u001b[0m \u001b[0mcopy\u001b[0m\u001b[0;34m,\u001b[0m \u001b[0mpaste\u001b[0m\u001b[0;34m\u001b[0m\u001b[0;34m\u001b[0m\u001b[0m\n\u001b[1;32m    648\u001b[0m     \u001b[0mcopy\u001b[0m\u001b[0;34m,\u001b[0m \u001b[0mpaste\u001b[0m \u001b[0;34m=\u001b[0m \u001b[0mdetermine_clipboard\u001b[0m\u001b[0;34m(\u001b[0m\u001b[0;34m)\u001b[0m\u001b[0;34m\u001b[0m\u001b[0;34m\u001b[0m\u001b[0m\n\u001b[0;32m--> 649\u001b[0;31m     \u001b[0;32mreturn\u001b[0m \u001b[0mpaste\u001b[0m\u001b[0;34m(\u001b[0m\u001b[0;34m)\u001b[0m\u001b[0;34m\u001b[0m\u001b[0;34m\u001b[0m\u001b[0m\n\u001b[0m\u001b[1;32m    650\u001b[0m \u001b[0;34m\u001b[0m\u001b[0m\n\u001b[1;32m    651\u001b[0m \u001b[0;34m\u001b[0m\u001b[0m\n",
            "\u001b[0;32m/usr/local/lib/python3.6/dist-packages/pandas/io/clipboard/__init__.py\u001b[0m in \u001b[0;36m__call__\u001b[0;34m(self, *args, **kwargs)\u001b[0m\n\u001b[1;32m    285\u001b[0m     \u001b[0;32mclass\u001b[0m \u001b[0mClipboardUnavailable\u001b[0m\u001b[0;34m:\u001b[0m\u001b[0;34m\u001b[0m\u001b[0;34m\u001b[0m\u001b[0m\n\u001b[1;32m    286\u001b[0m         \u001b[0;32mdef\u001b[0m \u001b[0m__call__\u001b[0m\u001b[0;34m(\u001b[0m\u001b[0mself\u001b[0m\u001b[0;34m,\u001b[0m \u001b[0;34m*\u001b[0m\u001b[0margs\u001b[0m\u001b[0;34m,\u001b[0m \u001b[0;34m**\u001b[0m\u001b[0mkwargs\u001b[0m\u001b[0;34m)\u001b[0m\u001b[0;34m:\u001b[0m\u001b[0;34m\u001b[0m\u001b[0;34m\u001b[0m\u001b[0m\n\u001b[0;32m--> 287\u001b[0;31m             \u001b[0;32mraise\u001b[0m \u001b[0mPyperclipException\u001b[0m\u001b[0;34m(\u001b[0m\u001b[0mEXCEPT_MSG\u001b[0m\u001b[0;34m)\u001b[0m\u001b[0;34m\u001b[0m\u001b[0;34m\u001b[0m\u001b[0m\n\u001b[0m\u001b[1;32m    288\u001b[0m \u001b[0;34m\u001b[0m\u001b[0m\n\u001b[1;32m    289\u001b[0m         \u001b[0;32mdef\u001b[0m \u001b[0m__bool__\u001b[0m\u001b[0;34m(\u001b[0m\u001b[0mself\u001b[0m\u001b[0;34m)\u001b[0m \u001b[0;34m->\u001b[0m \u001b[0mbool\u001b[0m\u001b[0;34m:\u001b[0m\u001b[0;34m\u001b[0m\u001b[0;34m\u001b[0m\u001b[0m\n",
            "\u001b[0;31mPyperclipException\u001b[0m: \n    Pyperclip could not find a copy/paste mechanism for your system.\n    For more information, please visit\n    https://pyperclip.readthedocs.io/en/latest/introduction.html#not-implemented-error\n    "
          ]
        }
      ]
    },
    {
      "cell_type": "code",
      "metadata": {
        "id": "yxH2IrTjDeil"
      },
      "source": [
        "data = {'City' : ['SF','LA','NWC'], 'Population':[837000,3880000,8400000]}"
      ],
      "execution_count": 1,
      "outputs": []
    },
    {
      "cell_type": "code",
      "metadata": {
        "colab": {
          "base_uri": "https://localhost:8080/"
        },
        "id": "MfL8xkljre3e",
        "outputId": "476b8f4e-9f04-444d-da93-32aafe62d61a"
      },
      "source": [
        "data"
      ],
      "execution_count": 5,
      "outputs": [
        {
          "output_type": "execute_result",
          "data": {
            "text/plain": [
              "{'City': ['SF', 'LA', 'NWC'], 'Population': [837000, 3880000, 8400000]}"
            ]
          },
          "metadata": {
            "tags": []
          },
          "execution_count": 5
        }
      ]
    },
    {
      "cell_type": "code",
      "metadata": {
        "id": "dP4eB808rfgD"
      },
      "source": [
        "# 辞書型の配列をデータフレーム型に変更する\n",
        "city_frame = DataFrame(data)"
      ],
      "execution_count": 8,
      "outputs": []
    },
    {
      "cell_type": "code",
      "metadata": {
        "colab": {
          "base_uri": "https://localhost:8080/",
          "height": 142
        },
        "id": "VinxsN4prl-0",
        "outputId": "63db5000-f2ed-42e1-940d-fe867afd6dd2"
      },
      "source": [
        "city_frame"
      ],
      "execution_count": 9,
      "outputs": [
        {
          "output_type": "execute_result",
          "data": {
            "text/html": [
              "<div>\n",
              "<style scoped>\n",
              "    .dataframe tbody tr th:only-of-type {\n",
              "        vertical-align: middle;\n",
              "    }\n",
              "\n",
              "    .dataframe tbody tr th {\n",
              "        vertical-align: top;\n",
              "    }\n",
              "\n",
              "    .dataframe thead th {\n",
              "        text-align: right;\n",
              "    }\n",
              "</style>\n",
              "<table border=\"1\" class=\"dataframe\">\n",
              "  <thead>\n",
              "    <tr style=\"text-align: right;\">\n",
              "      <th></th>\n",
              "      <th>City</th>\n",
              "      <th>Population</th>\n",
              "    </tr>\n",
              "  </thead>\n",
              "  <tbody>\n",
              "    <tr>\n",
              "      <th>0</th>\n",
              "      <td>SF</td>\n",
              "      <td>837000</td>\n",
              "    </tr>\n",
              "    <tr>\n",
              "      <th>1</th>\n",
              "      <td>LA</td>\n",
              "      <td>3880000</td>\n",
              "    </tr>\n",
              "    <tr>\n",
              "      <th>2</th>\n",
              "      <td>NWC</td>\n",
              "      <td>8400000</td>\n",
              "    </tr>\n",
              "  </tbody>\n",
              "</table>\n",
              "</div>"
            ],
            "text/plain": [
              "  City  Population\n",
              "0   SF      837000\n",
              "1   LA     3880000\n",
              "2  NWC     8400000"
            ]
          },
          "metadata": {
            "tags": []
          },
          "execution_count": 9
        }
      ]
    },
    {
      "cell_type": "markdown",
      "metadata": {
        "id": "CaJN6lq3r-Sf"
      },
      "source": [
        "# Lecture16:indexの基本"
      ]
    },
    {
      "cell_type": "code",
      "metadata": {
        "id": "KsuGtrrXr2iT"
      },
      "source": [
        "import numpy as np\n",
        "import pandas as pd\n",
        "from pandas import Series, DataFrame"
      ],
      "execution_count": 1,
      "outputs": []
    },
    {
      "cell_type": "code",
      "metadata": {
        "id": "BAylJMRDbhZJ"
      },
      "source": [
        "my_ser = Series([1,2,3,4], index=['A','B','C','D'])"
      ],
      "execution_count": 2,
      "outputs": []
    },
    {
      "cell_type": "code",
      "metadata": {
        "colab": {
          "base_uri": "https://localhost:8080/"
        },
        "id": "jntZBj52cOYt",
        "outputId": "2289cd2c-fd0e-468f-fe85-dc62ec281bd8"
      },
      "source": [
        "my_ser"
      ],
      "execution_count": 3,
      "outputs": [
        {
          "output_type": "execute_result",
          "data": {
            "text/plain": [
              "A    1\n",
              "B    2\n",
              "C    3\n",
              "D    4\n",
              "dtype: int64"
            ]
          },
          "metadata": {
            "tags": []
          },
          "execution_count": 3
        }
      ]
    },
    {
      "cell_type": "code",
      "metadata": {
        "id": "j8UHDZxTcR6Q"
      },
      "source": [
        "# indexだけ取り出して取得\n",
        "my_index = my_ser.index"
      ],
      "execution_count": 4,
      "outputs": []
    },
    {
      "cell_type": "code",
      "metadata": {
        "colab": {
          "base_uri": "https://localhost:8080/"
        },
        "id": "Jxsya87wcale",
        "outputId": "435d1119-faa9-4e3d-9e92-81882aa4e312"
      },
      "source": [
        "my_index"
      ],
      "execution_count": 5,
      "outputs": [
        {
          "output_type": "execute_result",
          "data": {
            "text/plain": [
              "Index(['A', 'B', 'C', 'D'], dtype='object')"
            ]
          },
          "metadata": {
            "tags": []
          },
          "execution_count": 5
        }
      ]
    },
    {
      "cell_type": "code",
      "metadata": {
        "colab": {
          "base_uri": "https://localhost:8080/",
          "height": 35
        },
        "id": "Yc8ytnMecdAr",
        "outputId": "7193306e-823c-49bd-f5ae-ccf901bf4b26"
      },
      "source": [
        "my_index[0]"
      ],
      "execution_count": 6,
      "outputs": [
        {
          "output_type": "execute_result",
          "data": {
            "application/vnd.google.colaboratory.intrinsic+json": {
              "type": "string"
            },
            "text/plain": [
              "'A'"
            ]
          },
          "metadata": {
            "tags": []
          },
          "execution_count": 6
        }
      ]
    },
    {
      "cell_type": "code",
      "metadata": {
        "colab": {
          "base_uri": "https://localhost:8080/"
        },
        "id": "1MeyzIF_cfon",
        "outputId": "f369eea2-a34c-4927-a36c-251bbf23078e"
      },
      "source": [
        "my_index[2:]"
      ],
      "execution_count": 7,
      "outputs": [
        {
          "output_type": "execute_result",
          "data": {
            "text/plain": [
              "Index(['C', 'D'], dtype='object')"
            ]
          },
          "metadata": {
            "tags": []
          },
          "execution_count": 7
        }
      ]
    },
    {
      "cell_type": "code",
      "metadata": {
        "colab": {
          "base_uri": "https://localhost:8080/",
          "height": 304
        },
        "id": "z4wxpqEOciwE",
        "outputId": "a3b61b12-4c4c-42d2-b1c6-2ce5d92d9704"
      },
      "source": [
        "# pandasのindexは個別に変更することはできない\n",
        "my_index[0] = 'Z'"
      ],
      "execution_count": 8,
      "outputs": [
        {
          "output_type": "error",
          "ename": "TypeError",
          "evalue": "ignored",
          "traceback": [
            "\u001b[0;31m---------------------------------------------------------------------------\u001b[0m",
            "\u001b[0;31mTypeError\u001b[0m                                 Traceback (most recent call last)",
            "\u001b[0;32m<ipython-input-8-11d1e029f6e4>\u001b[0m in \u001b[0;36m<module>\u001b[0;34m()\u001b[0m\n\u001b[1;32m      1\u001b[0m \u001b[0;31m# pandasのindexは個別に変更することはできない\u001b[0m\u001b[0;34m\u001b[0m\u001b[0;34m\u001b[0m\u001b[0;34m\u001b[0m\u001b[0m\n\u001b[0;32m----> 2\u001b[0;31m \u001b[0mmy_index\u001b[0m\u001b[0;34m[\u001b[0m\u001b[0;36m0\u001b[0m\u001b[0;34m]\u001b[0m \u001b[0;34m=\u001b[0m \u001b[0;34m'Z'\u001b[0m\u001b[0;34m\u001b[0m\u001b[0;34m\u001b[0m\u001b[0m\n\u001b[0m",
            "\u001b[0;32m/usr/local/lib/python3.6/dist-packages/pandas/core/indexes/base.py\u001b[0m in \u001b[0;36m__setitem__\u001b[0;34m(self, key, value)\u001b[0m\n\u001b[1;32m   4082\u001b[0m \u001b[0;34m\u001b[0m\u001b[0m\n\u001b[1;32m   4083\u001b[0m     \u001b[0;32mdef\u001b[0m \u001b[0m__setitem__\u001b[0m\u001b[0;34m(\u001b[0m\u001b[0mself\u001b[0m\u001b[0;34m,\u001b[0m \u001b[0mkey\u001b[0m\u001b[0;34m,\u001b[0m \u001b[0mvalue\u001b[0m\u001b[0;34m)\u001b[0m\u001b[0;34m:\u001b[0m\u001b[0;34m\u001b[0m\u001b[0;34m\u001b[0m\u001b[0m\n\u001b[0;32m-> 4084\u001b[0;31m         \u001b[0;32mraise\u001b[0m \u001b[0mTypeError\u001b[0m\u001b[0;34m(\u001b[0m\u001b[0;34m\"Index does not support mutable operations\"\u001b[0m\u001b[0;34m)\u001b[0m\u001b[0;34m\u001b[0m\u001b[0;34m\u001b[0m\u001b[0m\n\u001b[0m\u001b[1;32m   4085\u001b[0m \u001b[0;34m\u001b[0m\u001b[0m\n\u001b[1;32m   4086\u001b[0m     \u001b[0;32mdef\u001b[0m \u001b[0m__getitem__\u001b[0m\u001b[0;34m(\u001b[0m\u001b[0mself\u001b[0m\u001b[0;34m,\u001b[0m \u001b[0mkey\u001b[0m\u001b[0;34m)\u001b[0m\u001b[0;34m:\u001b[0m\u001b[0;34m\u001b[0m\u001b[0;34m\u001b[0m\u001b[0m\n",
            "\u001b[0;31mTypeError\u001b[0m: Index does not support mutable operations"
          ]
        }
      ]
    },
    {
      "cell_type": "markdown",
      "metadata": {
        "id": "mn7AHeGLdGMk"
      },
      "source": [
        "# Lecture17:indexを変える"
      ]
    },
    {
      "cell_type": "code",
      "metadata": {
        "id": "5jKvVd8KdLHK"
      },
      "source": [
        "import numpy as np\n",
        "import pandas as pd\n",
        "from pandas import Series, DataFrame\n",
        "from numpy.random import randn"
      ],
      "execution_count": 9,
      "outputs": []
    },
    {
      "cell_type": "code",
      "metadata": {
        "id": "AixUsgGmdTVg"
      },
      "source": [
        "ser1 = Series([1,2,3,4], index = ['A','B','C','D'])"
      ],
      "execution_count": 10,
      "outputs": []
    },
    {
      "cell_type": "code",
      "metadata": {
        "colab": {
          "base_uri": "https://localhost:8080/"
        },
        "id": "EDFnMM47dtrV",
        "outputId": "e2bc4a74-1558-4b3f-dc1b-a379934f0a15"
      },
      "source": [
        "ser1"
      ],
      "execution_count": 11,
      "outputs": [
        {
          "output_type": "execute_result",
          "data": {
            "text/plain": [
              "A    1\n",
              "B    2\n",
              "C    3\n",
              "D    4\n",
              "dtype: int64"
            ]
          },
          "metadata": {
            "tags": []
          },
          "execution_count": 11
        }
      ]
    },
    {
      "cell_type": "code",
      "metadata": {
        "id": "8CIHOLgGduX6"
      },
      "source": [
        "# インデックスを再割り当てする。indexが増えたら値にNULLが自動的に入る\n",
        "ser2 = ser1.reindex(['A','B','C','D','E','F'])"
      ],
      "execution_count": 12,
      "outputs": []
    },
    {
      "cell_type": "code",
      "metadata": {
        "colab": {
          "base_uri": "https://localhost:8080/"
        },
        "id": "ZyHQKOCCd7b5",
        "outputId": "ab6eb3ff-e9dc-47b4-8261-ef420d9f7cf3"
      },
      "source": [
        "ser2"
      ],
      "execution_count": 13,
      "outputs": [
        {
          "output_type": "execute_result",
          "data": {
            "text/plain": [
              "A    1.0\n",
              "B    2.0\n",
              "C    3.0\n",
              "D    4.0\n",
              "E    NaN\n",
              "F    NaN\n",
              "dtype: float64"
            ]
          },
          "metadata": {
            "tags": []
          },
          "execution_count": 13
        }
      ]
    },
    {
      "cell_type": "code",
      "metadata": {
        "colab": {
          "base_uri": "https://localhost:8080/"
        },
        "id": "gfuyObHnd8jB",
        "outputId": "d420d975-2367-411d-dd56-a6cb2cd29b25"
      },
      "source": [
        "# 新しく追加されたindexの値にNULLではなく0を代入する\n",
        "ser2.reindex(['A','B','C','D','E','F','G'],fill_value=0)"
      ],
      "execution_count": 14,
      "outputs": [
        {
          "output_type": "execute_result",
          "data": {
            "text/plain": [
              "A    1.0\n",
              "B    2.0\n",
              "C    3.0\n",
              "D    4.0\n",
              "E    NaN\n",
              "F    NaN\n",
              "G    0.0\n",
              "dtype: float64"
            ]
          },
          "metadata": {
            "tags": []
          },
          "execution_count": 14
        }
      ]
    },
    {
      "cell_type": "code",
      "metadata": {
        "id": "5_zy0w-EeWul"
      },
      "source": [
        "ser3 = Series(['USA','Mexico','Canada'], index=[0,5,10])"
      ],
      "execution_count": 15,
      "outputs": []
    },
    {
      "cell_type": "code",
      "metadata": {
        "colab": {
          "base_uri": "https://localhost:8080/"
        },
        "id": "AM_QVtZFemgp",
        "outputId": "3e06901c-1e94-4a04-b02d-9e1d277729e0"
      },
      "source": [
        "ser3"
      ],
      "execution_count": 16,
      "outputs": [
        {
          "output_type": "execute_result",
          "data": {
            "text/plain": [
              "0        USA\n",
              "5     Mexico\n",
              "10    Canada\n",
              "dtype: object"
            ]
          },
          "metadata": {
            "tags": []
          },
          "execution_count": 16
        }
      ]
    },
    {
      "cell_type": "code",
      "metadata": {
        "colab": {
          "base_uri": "https://localhost:8080/"
        },
        "id": "J10U2QxEeoEu",
        "outputId": "c6abbc15-c5d2-444f-fc14-90b2d3885a38"
      },
      "source": [
        "# indexを１５まで増やし、ForwordFillにより、下記のように値が代入される\n",
        "ser3.reindex(range(15), method='ffill')"
      ],
      "execution_count": 18,
      "outputs": [
        {
          "output_type": "execute_result",
          "data": {
            "text/plain": [
              "0        USA\n",
              "1        USA\n",
              "2        USA\n",
              "3        USA\n",
              "4        USA\n",
              "5     Mexico\n",
              "6     Mexico\n",
              "7     Mexico\n",
              "8     Mexico\n",
              "9     Mexico\n",
              "10    Canada\n",
              "11    Canada\n",
              "12    Canada\n",
              "13    Canada\n",
              "14    Canada\n",
              "dtype: object"
            ]
          },
          "metadata": {
            "tags": []
          },
          "execution_count": 18
        }
      ]
    },
    {
      "cell_type": "code",
      "metadata": {
        "id": "BinylqluexW5"
      },
      "source": [
        "dframe = DataFrame(randn(25).reshape((5,5)), index=['A','B','D','E','F'], columns=['col1','col2','col3','col4','col5'])"
      ],
      "execution_count": 19,
      "outputs": []
    },
    {
      "cell_type": "code",
      "metadata": {
        "colab": {
          "base_uri": "https://localhost:8080/",
          "height": 204
        },
        "id": "8cmFDscPflnK",
        "outputId": "3c1f2d75-3009-4619-8bed-e088be0793a6"
      },
      "source": [
        "dframe"
      ],
      "execution_count": 21,
      "outputs": [
        {
          "output_type": "execute_result",
          "data": {
            "text/html": [
              "<div>\n",
              "<style scoped>\n",
              "    .dataframe tbody tr th:only-of-type {\n",
              "        vertical-align: middle;\n",
              "    }\n",
              "\n",
              "    .dataframe tbody tr th {\n",
              "        vertical-align: top;\n",
              "    }\n",
              "\n",
              "    .dataframe thead th {\n",
              "        text-align: right;\n",
              "    }\n",
              "</style>\n",
              "<table border=\"1\" class=\"dataframe\">\n",
              "  <thead>\n",
              "    <tr style=\"text-align: right;\">\n",
              "      <th></th>\n",
              "      <th>col1</th>\n",
              "      <th>col2</th>\n",
              "      <th>col3</th>\n",
              "      <th>col4</th>\n",
              "      <th>col5</th>\n",
              "    </tr>\n",
              "  </thead>\n",
              "  <tbody>\n",
              "    <tr>\n",
              "      <th>A</th>\n",
              "      <td>1.798281</td>\n",
              "      <td>-0.853011</td>\n",
              "      <td>-1.994342</td>\n",
              "      <td>-0.456764</td>\n",
              "      <td>0.817262</td>\n",
              "    </tr>\n",
              "    <tr>\n",
              "      <th>B</th>\n",
              "      <td>-0.956073</td>\n",
              "      <td>-0.200918</td>\n",
              "      <td>-0.967874</td>\n",
              "      <td>-0.698836</td>\n",
              "      <td>1.127923</td>\n",
              "    </tr>\n",
              "    <tr>\n",
              "      <th>D</th>\n",
              "      <td>0.975924</td>\n",
              "      <td>0.813505</td>\n",
              "      <td>-0.360992</td>\n",
              "      <td>0.567961</td>\n",
              "      <td>0.956236</td>\n",
              "    </tr>\n",
              "    <tr>\n",
              "      <th>E</th>\n",
              "      <td>-1.542524</td>\n",
              "      <td>-0.768814</td>\n",
              "      <td>-0.354886</td>\n",
              "      <td>0.289908</td>\n",
              "      <td>-1.418927</td>\n",
              "    </tr>\n",
              "    <tr>\n",
              "      <th>F</th>\n",
              "      <td>1.590327</td>\n",
              "      <td>0.288436</td>\n",
              "      <td>-0.349002</td>\n",
              "      <td>-3.503006</td>\n",
              "      <td>-0.618537</td>\n",
              "    </tr>\n",
              "  </tbody>\n",
              "</table>\n",
              "</div>"
            ],
            "text/plain": [
              "       col1      col2      col3      col4      col5\n",
              "A  1.798281 -0.853011 -1.994342 -0.456764  0.817262\n",
              "B -0.956073 -0.200918 -0.967874 -0.698836  1.127923\n",
              "D  0.975924  0.813505 -0.360992  0.567961  0.956236\n",
              "E -1.542524 -0.768814 -0.354886  0.289908 -1.418927\n",
              "F  1.590327  0.288436 -0.349002 -3.503006 -0.618537"
            ]
          },
          "metadata": {
            "tags": []
          },
          "execution_count": 21
        }
      ]
    },
    {
      "cell_type": "code",
      "metadata": {
        "id": "nXiXVZvFfmSI"
      },
      "source": [
        "# 新しいindexを作成し、データフレームに割り当てる\n",
        "new_index=['A','B','C','D','E','F']\n",
        "dframe2 = dframe.reindex(new_index)"
      ],
      "execution_count": 25,
      "outputs": []
    },
    {
      "cell_type": "code",
      "metadata": {
        "colab": {
          "base_uri": "https://localhost:8080/",
          "height": 235
        },
        "id": "tMUUZnUifyvZ",
        "outputId": "1d175a93-b843-44c3-e3ca-0c6ab2b8ff4b"
      },
      "source": [
        "dframe2"
      ],
      "execution_count": 23,
      "outputs": [
        {
          "output_type": "execute_result",
          "data": {
            "text/html": [
              "<div>\n",
              "<style scoped>\n",
              "    .dataframe tbody tr th:only-of-type {\n",
              "        vertical-align: middle;\n",
              "    }\n",
              "\n",
              "    .dataframe tbody tr th {\n",
              "        vertical-align: top;\n",
              "    }\n",
              "\n",
              "    .dataframe thead th {\n",
              "        text-align: right;\n",
              "    }\n",
              "</style>\n",
              "<table border=\"1\" class=\"dataframe\">\n",
              "  <thead>\n",
              "    <tr style=\"text-align: right;\">\n",
              "      <th></th>\n",
              "      <th>col1</th>\n",
              "      <th>col2</th>\n",
              "      <th>col3</th>\n",
              "      <th>col4</th>\n",
              "      <th>col5</th>\n",
              "    </tr>\n",
              "  </thead>\n",
              "  <tbody>\n",
              "    <tr>\n",
              "      <th>A</th>\n",
              "      <td>1.798281</td>\n",
              "      <td>-0.853011</td>\n",
              "      <td>-1.994342</td>\n",
              "      <td>-0.456764</td>\n",
              "      <td>0.817262</td>\n",
              "    </tr>\n",
              "    <tr>\n",
              "      <th>B</th>\n",
              "      <td>-0.956073</td>\n",
              "      <td>-0.200918</td>\n",
              "      <td>-0.967874</td>\n",
              "      <td>-0.698836</td>\n",
              "      <td>1.127923</td>\n",
              "    </tr>\n",
              "    <tr>\n",
              "      <th>C</th>\n",
              "      <td>NaN</td>\n",
              "      <td>NaN</td>\n",
              "      <td>NaN</td>\n",
              "      <td>NaN</td>\n",
              "      <td>NaN</td>\n",
              "    </tr>\n",
              "    <tr>\n",
              "      <th>D</th>\n",
              "      <td>0.975924</td>\n",
              "      <td>0.813505</td>\n",
              "      <td>-0.360992</td>\n",
              "      <td>0.567961</td>\n",
              "      <td>0.956236</td>\n",
              "    </tr>\n",
              "    <tr>\n",
              "      <th>E</th>\n",
              "      <td>-1.542524</td>\n",
              "      <td>-0.768814</td>\n",
              "      <td>-0.354886</td>\n",
              "      <td>0.289908</td>\n",
              "      <td>-1.418927</td>\n",
              "    </tr>\n",
              "    <tr>\n",
              "      <th>F</th>\n",
              "      <td>1.590327</td>\n",
              "      <td>0.288436</td>\n",
              "      <td>-0.349002</td>\n",
              "      <td>-3.503006</td>\n",
              "      <td>-0.618537</td>\n",
              "    </tr>\n",
              "  </tbody>\n",
              "</table>\n",
              "</div>"
            ],
            "text/plain": [
              "       col1      col2      col3      col4      col5\n",
              "A  1.798281 -0.853011 -1.994342 -0.456764  0.817262\n",
              "B -0.956073 -0.200918 -0.967874 -0.698836  1.127923\n",
              "C       NaN       NaN       NaN       NaN       NaN\n",
              "D  0.975924  0.813505 -0.360992  0.567961  0.956236\n",
              "E -1.542524 -0.768814 -0.354886  0.289908 -1.418927\n",
              "F  1.590327  0.288436 -0.349002 -3.503006 -0.618537"
            ]
          },
          "metadata": {
            "tags": []
          },
          "execution_count": 23
        }
      ]
    },
    {
      "cell_type": "code",
      "metadata": {
        "colab": {
          "base_uri": "https://localhost:8080/",
          "height": 235
        },
        "id": "UReTrme9gkW_",
        "outputId": "92ef71eb-013b-43b4-93e8-9210e10aea4b"
      },
      "source": [
        "# 新しい列を作成し、データフレームに割り当てる\n",
        "new_columns = ['col1','col2','col3','col4','col5','col6']\n",
        "dframe2.reindex(columns=new_columns)"
      ],
      "execution_count": 26,
      "outputs": [
        {
          "output_type": "execute_result",
          "data": {
            "text/html": [
              "<div>\n",
              "<style scoped>\n",
              "    .dataframe tbody tr th:only-of-type {\n",
              "        vertical-align: middle;\n",
              "    }\n",
              "\n",
              "    .dataframe tbody tr th {\n",
              "        vertical-align: top;\n",
              "    }\n",
              "\n",
              "    .dataframe thead th {\n",
              "        text-align: right;\n",
              "    }\n",
              "</style>\n",
              "<table border=\"1\" class=\"dataframe\">\n",
              "  <thead>\n",
              "    <tr style=\"text-align: right;\">\n",
              "      <th></th>\n",
              "      <th>col1</th>\n",
              "      <th>col2</th>\n",
              "      <th>col3</th>\n",
              "      <th>col4</th>\n",
              "      <th>col5</th>\n",
              "      <th>col6</th>\n",
              "    </tr>\n",
              "  </thead>\n",
              "  <tbody>\n",
              "    <tr>\n",
              "      <th>A</th>\n",
              "      <td>1.798281</td>\n",
              "      <td>-0.853011</td>\n",
              "      <td>-1.994342</td>\n",
              "      <td>-0.456764</td>\n",
              "      <td>0.817262</td>\n",
              "      <td>NaN</td>\n",
              "    </tr>\n",
              "    <tr>\n",
              "      <th>B</th>\n",
              "      <td>-0.956073</td>\n",
              "      <td>-0.200918</td>\n",
              "      <td>-0.967874</td>\n",
              "      <td>-0.698836</td>\n",
              "      <td>1.127923</td>\n",
              "      <td>NaN</td>\n",
              "    </tr>\n",
              "    <tr>\n",
              "      <th>C</th>\n",
              "      <td>NaN</td>\n",
              "      <td>NaN</td>\n",
              "      <td>NaN</td>\n",
              "      <td>NaN</td>\n",
              "      <td>NaN</td>\n",
              "      <td>NaN</td>\n",
              "    </tr>\n",
              "    <tr>\n",
              "      <th>D</th>\n",
              "      <td>0.975924</td>\n",
              "      <td>0.813505</td>\n",
              "      <td>-0.360992</td>\n",
              "      <td>0.567961</td>\n",
              "      <td>0.956236</td>\n",
              "      <td>NaN</td>\n",
              "    </tr>\n",
              "    <tr>\n",
              "      <th>E</th>\n",
              "      <td>-1.542524</td>\n",
              "      <td>-0.768814</td>\n",
              "      <td>-0.354886</td>\n",
              "      <td>0.289908</td>\n",
              "      <td>-1.418927</td>\n",
              "      <td>NaN</td>\n",
              "    </tr>\n",
              "    <tr>\n",
              "      <th>F</th>\n",
              "      <td>1.590327</td>\n",
              "      <td>0.288436</td>\n",
              "      <td>-0.349002</td>\n",
              "      <td>-3.503006</td>\n",
              "      <td>-0.618537</td>\n",
              "      <td>NaN</td>\n",
              "    </tr>\n",
              "  </tbody>\n",
              "</table>\n",
              "</div>"
            ],
            "text/plain": [
              "       col1      col2      col3      col4      col5  col6\n",
              "A  1.798281 -0.853011 -1.994342 -0.456764  0.817262   NaN\n",
              "B -0.956073 -0.200918 -0.967874 -0.698836  1.127923   NaN\n",
              "C       NaN       NaN       NaN       NaN       NaN   NaN\n",
              "D  0.975924  0.813505 -0.360992  0.567961  0.956236   NaN\n",
              "E -1.542524 -0.768814 -0.354886  0.289908 -1.418927   NaN\n",
              "F  1.590327  0.288436 -0.349002 -3.503006 -0.618537   NaN"
            ]
          },
          "metadata": {
            "tags": []
          },
          "execution_count": 26
        }
      ]
    },
    {
      "cell_type": "code",
      "metadata": {
        "colab": {
          "base_uri": "https://localhost:8080/",
          "height": 204
        },
        "id": "PdvGJ4dZhR3q",
        "outputId": "11bf15a8-7efd-4778-da0d-da21e28901ca"
      },
      "source": [
        "dframe"
      ],
      "execution_count": 32,
      "outputs": [
        {
          "output_type": "execute_result",
          "data": {
            "text/html": [
              "<div>\n",
              "<style scoped>\n",
              "    .dataframe tbody tr th:only-of-type {\n",
              "        vertical-align: middle;\n",
              "    }\n",
              "\n",
              "    .dataframe tbody tr th {\n",
              "        vertical-align: top;\n",
              "    }\n",
              "\n",
              "    .dataframe thead th {\n",
              "        text-align: right;\n",
              "    }\n",
              "</style>\n",
              "<table border=\"1\" class=\"dataframe\">\n",
              "  <thead>\n",
              "    <tr style=\"text-align: right;\">\n",
              "      <th></th>\n",
              "      <th>col1</th>\n",
              "      <th>col2</th>\n",
              "      <th>col3</th>\n",
              "      <th>col4</th>\n",
              "      <th>col5</th>\n",
              "    </tr>\n",
              "  </thead>\n",
              "  <tbody>\n",
              "    <tr>\n",
              "      <th>A</th>\n",
              "      <td>1.798281</td>\n",
              "      <td>-0.853011</td>\n",
              "      <td>-1.994342</td>\n",
              "      <td>-0.456764</td>\n",
              "      <td>0.817262</td>\n",
              "    </tr>\n",
              "    <tr>\n",
              "      <th>B</th>\n",
              "      <td>-0.956073</td>\n",
              "      <td>-0.200918</td>\n",
              "      <td>-0.967874</td>\n",
              "      <td>-0.698836</td>\n",
              "      <td>1.127923</td>\n",
              "    </tr>\n",
              "    <tr>\n",
              "      <th>D</th>\n",
              "      <td>0.975924</td>\n",
              "      <td>0.813505</td>\n",
              "      <td>-0.360992</td>\n",
              "      <td>0.567961</td>\n",
              "      <td>0.956236</td>\n",
              "    </tr>\n",
              "    <tr>\n",
              "      <th>E</th>\n",
              "      <td>-1.542524</td>\n",
              "      <td>-0.768814</td>\n",
              "      <td>-0.354886</td>\n",
              "      <td>0.289908</td>\n",
              "      <td>-1.418927</td>\n",
              "    </tr>\n",
              "    <tr>\n",
              "      <th>F</th>\n",
              "      <td>1.590327</td>\n",
              "      <td>0.288436</td>\n",
              "      <td>-0.349002</td>\n",
              "      <td>-3.503006</td>\n",
              "      <td>-0.618537</td>\n",
              "    </tr>\n",
              "  </tbody>\n",
              "</table>\n",
              "</div>"
            ],
            "text/plain": [
              "       col1      col2      col3      col4      col5\n",
              "A  1.798281 -0.853011 -1.994342 -0.456764  0.817262\n",
              "B -0.956073 -0.200918 -0.967874 -0.698836  1.127923\n",
              "D  0.975924  0.813505 -0.360992  0.567961  0.956236\n",
              "E -1.542524 -0.768814 -0.354886  0.289908 -1.418927\n",
              "F  1.590327  0.288436 -0.349002 -3.503006 -0.618537"
            ]
          },
          "metadata": {
            "tags": []
          },
          "execution_count": 32
        }
      ]
    },
    {
      "cell_type": "markdown",
      "metadata": {
        "id": "-nHTc3J1pDNE"
      },
      "source": [
        "# Lecture18:行や列を削除する"
      ]
    },
    {
      "cell_type": "code",
      "metadata": {
        "id": "TkpMCx8dpLZN"
      },
      "source": [
        "import numpy as np\n",
        "import pandas as pd\n",
        "from pandas import Series, DataFrame"
      ],
      "execution_count": 41,
      "outputs": []
    },
    {
      "cell_type": "code",
      "metadata": {
        "id": "gHf7pWrspPRj"
      },
      "source": [
        "ser1 = Series(np.arange(3), index=['a','b','c'])"
      ],
      "execution_count": 36,
      "outputs": []
    },
    {
      "cell_type": "code",
      "metadata": {
        "colab": {
          "base_uri": "https://localhost:8080/"
        },
        "id": "y5rZj3O2pXEI",
        "outputId": "77303c15-5167-4e9b-a39b-a82eb13b5be4"
      },
      "source": [
        "ser1"
      ],
      "execution_count": 37,
      "outputs": [
        {
          "output_type": "execute_result",
          "data": {
            "text/plain": [
              "a    0\n",
              "b    1\n",
              "c    2\n",
              "dtype: int64"
            ]
          },
          "metadata": {
            "tags": []
          },
          "execution_count": 37
        }
      ]
    },
    {
      "cell_type": "code",
      "metadata": {
        "colab": {
          "base_uri": "https://localhost:8080/"
        },
        "id": "7Rt4wKrKpXwM",
        "outputId": "e85ab8c6-0d1d-4610-bffb-4b543de9d94d"
      },
      "source": [
        "# 行の削除\n",
        "ser1.drop('b')"
      ],
      "execution_count": 38,
      "outputs": [
        {
          "output_type": "execute_result",
          "data": {
            "text/plain": [
              "a    0\n",
              "c    2\n",
              "dtype: int64"
            ]
          },
          "metadata": {
            "tags": []
          },
          "execution_count": 38
        }
      ]
    },
    {
      "cell_type": "code",
      "metadata": {
        "id": "KYGgxCZRpfQP"
      },
      "source": [
        "dframe1 = DataFrame(np.arange(9).reshape((3,3)), index=['SF','LA','NY'], columns=['pop', 'size', 'year'])"
      ],
      "execution_count": 43,
      "outputs": []
    },
    {
      "cell_type": "code",
      "metadata": {
        "colab": {
          "base_uri": "https://localhost:8080/",
          "height": 142
        },
        "id": "WNG93GcYpgdk",
        "outputId": "04a1aa54-3733-4749-ac0a-60106f02400f"
      },
      "source": [
        "dframe1"
      ],
      "execution_count": 44,
      "outputs": [
        {
          "output_type": "execute_result",
          "data": {
            "text/html": [
              "<div>\n",
              "<style scoped>\n",
              "    .dataframe tbody tr th:only-of-type {\n",
              "        vertical-align: middle;\n",
              "    }\n",
              "\n",
              "    .dataframe tbody tr th {\n",
              "        vertical-align: top;\n",
              "    }\n",
              "\n",
              "    .dataframe thead th {\n",
              "        text-align: right;\n",
              "    }\n",
              "</style>\n",
              "<table border=\"1\" class=\"dataframe\">\n",
              "  <thead>\n",
              "    <tr style=\"text-align: right;\">\n",
              "      <th></th>\n",
              "      <th>pop</th>\n",
              "      <th>size</th>\n",
              "      <th>year</th>\n",
              "    </tr>\n",
              "  </thead>\n",
              "  <tbody>\n",
              "    <tr>\n",
              "      <th>SF</th>\n",
              "      <td>0</td>\n",
              "      <td>1</td>\n",
              "      <td>2</td>\n",
              "    </tr>\n",
              "    <tr>\n",
              "      <th>LA</th>\n",
              "      <td>3</td>\n",
              "      <td>4</td>\n",
              "      <td>5</td>\n",
              "    </tr>\n",
              "    <tr>\n",
              "      <th>NY</th>\n",
              "      <td>6</td>\n",
              "      <td>7</td>\n",
              "      <td>8</td>\n",
              "    </tr>\n",
              "  </tbody>\n",
              "</table>\n",
              "</div>"
            ],
            "text/plain": [
              "    pop  size  year\n",
              "SF    0     1     2\n",
              "LA    3     4     5\n",
              "NY    6     7     8"
            ]
          },
          "metadata": {
            "tags": []
          },
          "execution_count": 44
        }
      ]
    },
    {
      "cell_type": "code",
      "metadata": {
        "colab": {
          "base_uri": "https://localhost:8080/",
          "height": 111
        },
        "id": "wmk4IZKwqCM-",
        "outputId": "384deac9-cb23-4b76-c142-f28352184897"
      },
      "source": [
        "# 行の削除\n",
        "dframe1.drop('LA')"
      ],
      "execution_count": 46,
      "outputs": [
        {
          "output_type": "execute_result",
          "data": {
            "text/html": [
              "<div>\n",
              "<style scoped>\n",
              "    .dataframe tbody tr th:only-of-type {\n",
              "        vertical-align: middle;\n",
              "    }\n",
              "\n",
              "    .dataframe tbody tr th {\n",
              "        vertical-align: top;\n",
              "    }\n",
              "\n",
              "    .dataframe thead th {\n",
              "        text-align: right;\n",
              "    }\n",
              "</style>\n",
              "<table border=\"1\" class=\"dataframe\">\n",
              "  <thead>\n",
              "    <tr style=\"text-align: right;\">\n",
              "      <th></th>\n",
              "      <th>pop</th>\n",
              "      <th>size</th>\n",
              "      <th>year</th>\n",
              "    </tr>\n",
              "  </thead>\n",
              "  <tbody>\n",
              "    <tr>\n",
              "      <th>SF</th>\n",
              "      <td>0</td>\n",
              "      <td>1</td>\n",
              "      <td>2</td>\n",
              "    </tr>\n",
              "    <tr>\n",
              "      <th>NY</th>\n",
              "      <td>6</td>\n",
              "      <td>7</td>\n",
              "      <td>8</td>\n",
              "    </tr>\n",
              "  </tbody>\n",
              "</table>\n",
              "</div>"
            ],
            "text/plain": [
              "    pop  size  year\n",
              "SF    0     1     2\n",
              "NY    6     7     8"
            ]
          },
          "metadata": {
            "tags": []
          },
          "execution_count": 46
        }
      ]
    },
    {
      "cell_type": "code",
      "metadata": {
        "colab": {
          "base_uri": "https://localhost:8080/",
          "height": 142
        },
        "id": "KZOnoYmyqG2j",
        "outputId": "9e894b2e-69d8-49a2-d80e-ff0c915950d1"
      },
      "source": [
        "# 列の削除、axis=1は列の削除、axis=0は行の削除\n",
        "dframe1.drop('year',axis=1)"
      ],
      "execution_count": 47,
      "outputs": [
        {
          "output_type": "execute_result",
          "data": {
            "text/html": [
              "<div>\n",
              "<style scoped>\n",
              "    .dataframe tbody tr th:only-of-type {\n",
              "        vertical-align: middle;\n",
              "    }\n",
              "\n",
              "    .dataframe tbody tr th {\n",
              "        vertical-align: top;\n",
              "    }\n",
              "\n",
              "    .dataframe thead th {\n",
              "        text-align: right;\n",
              "    }\n",
              "</style>\n",
              "<table border=\"1\" class=\"dataframe\">\n",
              "  <thead>\n",
              "    <tr style=\"text-align: right;\">\n",
              "      <th></th>\n",
              "      <th>pop</th>\n",
              "      <th>size</th>\n",
              "    </tr>\n",
              "  </thead>\n",
              "  <tbody>\n",
              "    <tr>\n",
              "      <th>SF</th>\n",
              "      <td>0</td>\n",
              "      <td>1</td>\n",
              "    </tr>\n",
              "    <tr>\n",
              "      <th>LA</th>\n",
              "      <td>3</td>\n",
              "      <td>4</td>\n",
              "    </tr>\n",
              "    <tr>\n",
              "      <th>NY</th>\n",
              "      <td>6</td>\n",
              "      <td>7</td>\n",
              "    </tr>\n",
              "  </tbody>\n",
              "</table>\n",
              "</div>"
            ],
            "text/plain": [
              "    pop  size\n",
              "SF    0     1\n",
              "LA    3     4\n",
              "NY    6     7"
            ]
          },
          "metadata": {
            "tags": []
          },
          "execution_count": 47
        }
      ]
    },
    {
      "cell_type": "code",
      "metadata": {
        "id": "9nFBSpM4qUcs"
      },
      "source": [
        ""
      ],
      "execution_count": null,
      "outputs": []
    }
  ]
}